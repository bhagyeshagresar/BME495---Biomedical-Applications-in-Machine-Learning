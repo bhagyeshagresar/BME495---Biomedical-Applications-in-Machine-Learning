{
 "cells": [
  {
   "cell_type": "markdown",
   "metadata": {},
   "source": [
    "# Midterm Project 1 (100 points total)"
   ]
  },
  {
   "cell_type": "markdown",
   "metadata": {},
   "source": [
    "## In this project, you need to build a Logistic Regression model from scratch to classify patients with and without a heart disease."
   ]
  },
  {
   "cell_type": "markdown",
   "metadata": {},
   "source": [
    "### At first, import the necessary libraries. (5 points)"
   ]
  },
  {
   "cell_type": "code",
   "execution_count": 1,
   "metadata": {},
   "outputs": [],
   "source": [
    "#Import the necessary libraries\n",
    "import numpy as np\n",
    "import pandas as pd\n",
    "import matplotlib.pyplot as plt"
   ]
  },
  {
   "cell_type": "markdown",
   "metadata": {},
   "source": [
    "### After that, upload the data and preprocess it. (10 points)"
   ]
  },
  {
   "cell_type": "code",
   "execution_count": 2,
   "metadata": {},
   "outputs": [],
   "source": [
    "# Upload the data, separate the features and the labels into X and y variables\n",
    "data = pd.read_csv('heart_disease_classification.csv')\n",
    "y = data['target']\n",
    "X = data.drop(['target'], axis = 1)\n",
    "\n",
    "# One-hot-encode the necessary columnns (which columns do we need to one-hot-encode?)\n",
    "#columns cp, thal and scope need to be one hot encoded\n",
    "a = pd.get_dummies(X['cp'], prefix = \"cp\")\n",
    "b = pd.get_dummies(X['thal'], prefix = \"thal\")\n",
    "c = pd.get_dummies(X['slope'], prefix = \"slope\")\n",
    "\n",
    "X_expanded = pd.concat([X, a, b, c], axis=1)\n",
    "\n",
    "X = X_expanded.drop(columns = ['cp', 'thal', 'slope']).astype('float')\n",
    "\n",
    "\n",
    "\n",
    "\n",
    "# Normalize the features\n",
    "X = (X - np.min(X)) / (np.max(X) - np.min(X)).values\n"
   ]
  },
  {
   "cell_type": "markdown",
   "metadata": {},
   "source": [
    "### Before starting to code the Logistic Regression model, check if your data is ready."
   ]
  },
  {
   "cell_type": "code",
   "execution_count": 3,
   "metadata": {},
   "outputs": [
    {
     "name": "stdout",
     "output_type": "stream",
     "text": [
      "        age  sex  trestbps      chol  fbs  restecg   thalach  exang   oldpeak  \\\n",
      "0  0.708333  1.0  0.481132  0.244292  1.0      0.0  0.603053    0.0  0.370968   \n",
      "1  0.166667  1.0  0.339623  0.283105  0.0      0.5  0.885496    0.0  0.564516   \n",
      "2  0.250000  0.0  0.339623  0.178082  0.0      0.0  0.770992    0.0  0.225806   \n",
      "3  0.562500  1.0  0.245283  0.251142  0.0      0.5  0.816794    0.0  0.129032   \n",
      "4  0.583333  0.0  0.245283  0.520548  0.0      0.5  0.702290    1.0  0.096774   \n",
      "\n",
      "    ca  ...  cp_1  cp_2  cp_3  thal_0  thal_1  thal_2  thal_3  slope_0  \\\n",
      "0  0.0  ...   0.0   0.0   1.0     0.0     1.0     0.0     0.0      1.0   \n",
      "1  0.0  ...   0.0   1.0   0.0     0.0     0.0     1.0     0.0      1.0   \n",
      "2  0.0  ...   1.0   0.0   0.0     0.0     0.0     1.0     0.0      0.0   \n",
      "3  0.0  ...   1.0   0.0   0.0     0.0     0.0     1.0     0.0      0.0   \n",
      "4  0.0  ...   0.0   0.0   0.0     0.0     0.0     1.0     0.0      0.0   \n",
      "\n",
      "   slope_1  slope_2  \n",
      "0      0.0      0.0  \n",
      "1      0.0      0.0  \n",
      "2      0.0      1.0  \n",
      "3      0.0      1.0  \n",
      "4      0.0      1.0  \n",
      "\n",
      "[5 rows x 21 columns]\n"
     ]
    }
   ],
   "source": [
    "print(X.head())"
   ]
  },
  {
   "cell_type": "markdown",
   "metadata": {},
   "source": [
    "### Split the data into training and test sets. Use a 80-20 split ratio."
   ]
  },
  {
   "cell_type": "code",
   "execution_count": 4,
   "metadata": {},
   "outputs": [],
   "source": [
    "#Create the training and test sets\n",
    "from sklearn.model_selection import train_test_split\n",
    "X_train, X_test, y_train, y_test = train_test_split(X, y, random_state=0, test_size=0.2)"
   ]
  },
  {
   "cell_type": "markdown",
   "metadata": {},
   "source": [
    "### Now you can start building your Logistic Regression model."
   ]
  },
  {
   "cell_type": "markdown",
   "metadata": {},
   "source": [
    "#### You need a bunch of helper functions. Let's start with initialize and sigmoid. (10 points each)"
   ]
  },
  {
   "cell_type": "code",
   "execution_count": 5,
   "metadata": {},
   "outputs": [],
   "source": [
    "# Write the initialize function (Hint: Look up how to use the np.random sublibrary)\n",
    "# It needs one input: dimension\n",
    "# It will return two outputs: random weights and random bias\n",
    "def initialize(dimension):\n",
    "    weights = np.random.rand(dimension,1)\n",
    "    weights = weights.flatten()\n",
    "    bias = np.random.rand()\n",
    "#     bias = bias.flatten()\n",
    "    \n",
    "    return  weights, bias"
   ]
  },
  {
   "cell_type": "code",
   "execution_count": 6,
   "metadata": {},
   "outputs": [
    {
     "name": "stdout",
     "output_type": "stream",
     "text": [
      "[0.69646919 0.28613933 0.22685145 0.55131477 0.71946897 0.42310646]\n",
      "0.9807641983846155\n"
     ]
    }
   ],
   "source": [
    "# Check if your function works with the following test case\n",
    "\n",
    "np.random.seed(123)\n",
    "\n",
    "weights,bias = initialize(6)\n",
    "\n",
    "print(weights)\n",
    "print(bias)\n",
    "\n",
    "#Should be weights = [0.69646919 0.28613933 0.22685145 0.55131477 0.71946897 0.42310646] and bias = 0.9807641983846155"
   ]
  },
  {
   "cell_type": "code",
   "execution_count": 7,
   "metadata": {},
   "outputs": [],
   "source": [
    "# Write the sigmoid function (one input, one output - formula given in the slides)\n",
    "def sigmoid(X):\n",
    "    \n",
    "    sigma = 1/(1+np.exp(-X))\n",
    "    \n",
    "    return sigma"
   ]
  },
  {
   "cell_type": "code",
   "execution_count": 8,
   "metadata": {},
   "outputs": [
    {
     "name": "stdout",
     "output_type": "stream",
     "text": [
      "0.5\n",
      "0.0066928509242848554\n",
      "0.9525741268224334\n"
     ]
    }
   ],
   "source": [
    "# Check if your function works with the following test cases\n",
    "\n",
    "print(sigmoid(0)) #should be 0.5\n",
    "\n",
    "print(sigmoid(-5)) #should be 0.00669\n",
    "\n",
    "print(sigmoid(3)) #should be 0.95257"
   ]
  },
  {
   "cell_type": "markdown",
   "metadata": {},
   "source": [
    "#### Next two helper functions will be calculate_cost_gradient and GradientDescent. (20 points each) The functions we have written for Linear Regression can help you but keep in mind that the cost function is crossentropy and the gradients will change accordingly. \n",
    "\n",
    "#### Also, you need to include the tol value to GradientDescent, so it stops at convergence. Make sure the GradientDescent function returns the cost after every iteration, prints the final cost and plots the cost vs number of iterations."
   ]
  },
  {
   "cell_type": "code",
   "execution_count": 9,
   "metadata": {},
   "outputs": [],
   "source": [
    "# Write the calculate_cost_gradient function\n",
    "def calculate_cost_gradient(weights, bias, X_train, y_train):\n",
    "    #gradient descent step 1\n",
    "    y_output = np.dot(X_train, weights) + bias\n",
    "    cost = (y_train*np.log(sigmoid(y_output)) + (1-y_train)*np.log(1-sigmoid(y_output)))\n",
    "    cost = -np.sum(cost)/X_train.shape[0]\n",
    "    \n",
    "    derivative_weight = -np.dot(X_train.T, y_train - sigmoid(y_output))/X_train.shape[0]\n",
    "    derivative_bias = -np.sum(y_train - sigmoid(y_output))/X_train.shape[0]\n",
    "    \n",
    "    gradient = {'weight_gradient': derivative_weight, 'bias_gradient': derivative_bias}\n",
    "    \n",
    "    return cost, gradient\n",
    "    "
   ]
  },
  {
   "cell_type": "code",
   "execution_count": 10,
   "metadata": {},
   "outputs": [],
   "source": [
    "# Write the GradientDescent function (Do not forget to include tol as an extra input)\n",
    "def GradientDescent(old_weights, bias, x_train, y_train, lr, iters, tol):\n",
    "    \n",
    "    costList = []\n",
    "    index = []\n",
    "    \n",
    "    for ii in range(iters):\n",
    "        \n",
    "        cost, gradients = calculate_cost_gradient(old_weights, bias, X_train, y_train)\n",
    "        \n",
    "        new_weights = old_weights - lr*gradients['weight_gradient']\n",
    "        bias = bias - lr*gradients['bias_gradient']\n",
    "        \n",
    "        costList.append(cost)\n",
    "        index.append(ii)\n",
    "    \n",
    "        if(np.linalg.norm(new_weights - old_weights) < tol):\n",
    "            break\n",
    "        old_weights = new_weights \n",
    "        \n",
    "    model_parameters = {'weights': new_weights, 'bias': bias}\n",
    "    \n",
    "    print('iterations:', iters)\n",
    "    print('cost:', cost)\n",
    "    \n",
    "    #plot to see how the cost decreases\n",
    "    \n",
    "    plt.plot(index, costList)\n",
    "    plt.xlabel('num of iters')\n",
    "    plt.ylabel('Cost')\n",
    "    plt.show()\n",
    "    \n",
    "    return model_parameters"
   ]
  },
  {
   "cell_type": "markdown",
   "metadata": {},
   "source": [
    "#### The last helper function you need to write is predict. (10 points) It takes the model parameters and the test data as inputs and returns the test predictions. (Predicted labels)"
   ]
  },
  {
   "cell_type": "code",
   "execution_count": 11,
   "metadata": {},
   "outputs": [],
   "source": [
    "#Write the predict function\n",
    "def predict(model_parameters, X_test):\n",
    "    \n",
    "    w = model_parameters[\"weights\"]\n",
    "    b = model_parameters[\"bias\"]\n",
    "    \n",
    "    y_temp =  np.dot(X_test, w) + b\n",
    "    \n",
    "    y_pred = [0 for x in range(len(y_temp))]\n",
    "    y_pred = np.array(y_pred)\n",
    "    \n",
    "    for i in range(len(y_temp)):\n",
    "        if(sigmoid(y_temp[i]) >= 0.5):\n",
    "            y_pred[i] = 1\n",
    "        else:\n",
    "            y_pred[i] = 0\n",
    "        \n",
    "       \n",
    "  \n",
    "    \n",
    "    return y_pred\n",
    "    "
   ]
  },
  {
   "cell_type": "code",
   "execution_count": 12,
   "metadata": {},
   "outputs": [
    {
     "name": "stdout",
     "output_type": "stream",
     "text": [
      "[1 0 1]\n"
     ]
    }
   ],
   "source": [
    "# Check if your function works with the following test case\n",
    "\n",
    "x_testcase = np.array([[1, 3, 4 ,7],[4, 6, -7, -9], [1, 3, 5, 7]])\n",
    "params = {'weights':[1, 2, 3, 4], 'bias':5}\n",
    "\n",
    "print(predict(params,x_testcase)) #Should be [1, 0 ,1]\n"
   ]
  },
  {
   "cell_type": "markdown",
   "metadata": {},
   "source": [
    "#### Lastly, you need to write the logistic regression function. (5 points) Keep in mind that you need to initialize the parameters, optimize them, get the predictions for test data and evaluate the performance of the model. The evaluation metric for classification is accuracy. Make sure the function prints the test accuracy like the linear regression function we wrote in class."
   ]
  },
  {
   "cell_type": "code",
   "execution_count": 13,
   "metadata": {},
   "outputs": [],
   "source": [
    "# Write the logistic regression function.\n",
    "def logistic_regression(X_train, y_train, X_test, y_test, lr, iters, tol):\n",
    "    \n",
    "    #Initialize\n",
    "    init_weights, init_bias = initialize(X_train.shape[1])\n",
    "    \n",
    "    print(\"init_weights\", init_weights.shape)\n",
    "    print(\"init_bias\", init_bias)\n",
    "    #Train the ML model\n",
    "    parameters = GradientDescent(init_weights, init_bias, X_train, y_train, lr, iters, tol)\n",
    "    \n",
    "    \n",
    "#     print(X_test.shape)\n",
    "    print(\"weights\", parameters[\"weights\"])\n",
    "    print(\"bias\", parameters[\"bias\"])\n",
    "    \n",
    "    \n",
    "    \n",
    "    #Get predictions for test data\n",
    "    y_pred = predict(parameters, X_test)\n",
    "    \n",
    "#     print(\"y_pred\", y_pred)\n",
    "    \n",
    "    #Evaluate\n",
    "    print(\"Test accuracy: {:.2f}\".format((100*np.mean(y_pred == y_test))) + '%')\n",
    "    \n",
    "    return parameters "
   ]
  },
  {
   "cell_type": "markdown",
   "metadata": {},
   "source": [
    "#### Now, you need to run your logistic regression function with the training and the test datasets defined at the beginning.\n",
    "\n",
    "#### The stepsize (learning rate), number of iterations and tolerance values will be your choice. Tune them until the model matches the accuracy we found in class with the built-in model. (10 points)"
   ]
  },
  {
   "cell_type": "code",
   "execution_count": 14,
   "metadata": {},
   "outputs": [
    {
     "name": "stdout",
     "output_type": "stream",
     "text": [
      "init_weights (21,)\n",
      "init_bias 0.29371404638882936\n",
      "iterations: 1000\n",
      "cost: 0.4200200719278874\n"
     ]
    },
    {
     "data": {
      "image/png": "[encoded data removed]",
      "text/plain": [
       "<Figure size 432x288 with 1 Axes>"
      ]
     },
     "metadata": {
      "needs_background": "light"
     },
     "output_type": "display_data"
    },
    {
     "name": "stdout",
     "output_type": "stream",
     "text": [
      "weights [ 0.14036837 -0.56109736  0.01673382  0.13323739  0.29767462  0.34299887\n",
      "  0.0478082  -0.47406742  0.23110673 -0.56970689 -0.70379655  0.65176924\n",
      "  0.74282024  0.61851864  0.82807229  0.46747044  1.23817292 -0.19028175\n",
      "  0.16235102 -0.37753217  0.56427184]\n",
      "bias -0.27020606194129154\n",
      "Test accuracy: 86.89%\n"
     ]
    },
    {
     "data": {
      "text/plain": [
       "{'weights': array([ 0.14036837, -0.56109736,  0.01673382,  0.13323739,  0.29767462,\n",
       "         0.34299887,  0.0478082 , -0.47406742,  0.23110673, -0.56970689,\n",
       "        -0.70379655,  0.65176924,  0.74282024,  0.61851864,  0.82807229,\n",
       "         0.46747044,  1.23817292, -0.19028175,  0.16235102, -0.37753217,\n",
       "         0.56427184]),\n",
       " 'bias': -0.27020606194129154}"
      ]
     },
     "execution_count": 14,
     "metadata": {},
     "output_type": "execute_result"
    }
   ],
   "source": [
    "logistic_regression(X_train, y_train, X_test, y_test, lr=0.2, iters=1000, tol=0.01)"
   ]
  },
  {
   "cell_type": "code",
   "execution_count": 15,
   "metadata": {},
   "outputs": [],
   "source": [
    "# Test Accuracy is 86.89%"
   ]
  }
 ],
 "metadata": {
  "kernelspec": {
   "display_name": "Python 3",
   "language": "python",
   "name": "python3"
  },
  "language_info": {
   "codemirror_mode": {
    "name": "ipython",
    "version": 3
   },
   "file_extension": ".py",
   "mimetype": "text/x-python",
   "name": "python",
   "nbconvert_exporter": "python",
   "pygments_lexer": "ipython3",
   "version": "3.8.8"
  }
 },
 "nbformat": 4,
 "nbformat_minor": 4
}
