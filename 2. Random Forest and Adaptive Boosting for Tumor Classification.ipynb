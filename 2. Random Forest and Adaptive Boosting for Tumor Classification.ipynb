{
 "cells": [
  {
   "cell_type": "markdown",
   "metadata": {},
   "source": [
    "# Midterm Project 2 (100 points total)"
   ]
  },
  {
   "cell_type": "markdown",
   "metadata": {},
   "source": [
    "## In this project, you need to use two tree-based ensemble models: Build a Random Forest and an Adaptive Boosting model using scikit-learn library to classify patients with benign and malignant tumors."
   ]
  },
  {
   "cell_type": "markdown",
   "metadata": {},
   "source": [
    "### At first, import the necessary libraries. (5 points)"
   ]
  },
  {
   "cell_type": "code",
   "execution_count": 1,
   "metadata": {},
   "outputs": [],
   "source": [
    "#Import the necessary libraries\n",
    "import numpy as np\n",
    "import pandas as pd\n",
    "import matplotlib.pyplot as plt\n",
    "import seaborn as sns\n",
    "\n",
    "from sklearn.model_selection import train_test_split, GridSearchCV\n",
    "from sklearn.ensemble import RandomForestClassifier, AdaBoostClassifier\n",
    "from sklearn.tree import DecisionTreeClassifier\n",
    "from sklearn.metrics import mean_squared_error\n",
    "from sklearn.metrics import accuracy_score, confusion_matrix\n"
   ]
  },
  {
   "cell_type": "markdown",
   "metadata": {},
   "source": [
    "### After that, upload the data and preprocess it. (5 points)"
   ]
  },
  {
   "cell_type": "code",
   "execution_count": 2,
   "metadata": {},
   "outputs": [],
   "source": [
    "# Upload the data, separate the features and the labels into X and y variables\n",
    "data = pd.read_csv('breast_tumor_classification.csv')\n",
    "y = data['diagnosis']\n",
    "X = data.drop(['diagnosis', 'id', 'Unnamed: 32'],axis=1)\n",
    "# Convert y into 0's and 1's. (0 for B, 1 for M)\n",
    "map_diagnosis = {'B': 0, 'M' : 1}\n",
    "y = y.map(map_diagnosis)\n"
   ]
  },
  {
   "cell_type": "markdown",
   "metadata": {},
   "source": [
    "### Before starting to build the models, check if your data is ready."
   ]
  },
  {
   "cell_type": "code",
   "execution_count": 3,
   "metadata": {},
   "outputs": [],
   "source": [
    "# print(X.head())\n",
    "# print(y.head())\n",
    "# print(y[13])"
   ]
  },
  {
   "cell_type": "markdown",
   "metadata": {},
   "source": [
    "### Split the data into training and test sets. Use a 70-30 split ratio."
   ]
  },
  {
   "cell_type": "code",
   "execution_count": 4,
   "metadata": {},
   "outputs": [],
   "source": [
    "#Create the training and test sets\n",
    "X_train, X_test, y_train, y_test = train_test_split(X, y, random_state=42, test_size=0.3)"
   ]
  },
  {
   "cell_type": "markdown",
   "metadata": {},
   "source": [
    "### Create two classifiers: One Random Forest and one Adaptive Boosting. Use a random_state of 12 for both classifier objects. (10 points)"
   ]
  },
  {
   "cell_type": "code",
   "execution_count": 5,
   "metadata": {},
   "outputs": [],
   "source": [
    "# Create the Random Forest\n",
    "rf = RandomForestClassifier(random_state=12) # types of parameters?\n",
    "\n",
    "# Create the Adaptive Boosting\n",
    "ab = AdaBoostClassifier(DecisionTreeClassifier(random_state=12), random_state=12) # types of parameters?\n",
    "\n"
   ]
  },
  {
   "cell_type": "markdown",
   "metadata": {},
   "source": [
    "### Create two hyperparameter grids for the two classifiers. Keep in mind that both classifiers need number of trees as the first hyperparameter. The second hyperparameter is up to you. Your options are max_depth, min_samples_leaf and max_leaf_nodes. (20 points)"
   ]
  },
  {
   "cell_type": "code",
   "execution_count": 6,
   "metadata": {},
   "outputs": [],
   "source": [
    "# Create the hyperparameter grid for Random Forest\n",
    "hp_grid_rf = {'n_estimators': [5,10,15,20,25,30,35], 'max_depth': [1,3,5,7,9,11,13]} # no. of trees?\n",
    "# Create the hyperparameter grid for Adaptive Boosting\n",
    "hp_grid_ab = {'n_estimators': [5,10,15,20,25,30,35], 'base_estimator__max_depth': [1,3,5,7,9,11,13]}"
   ]
  },
  {
   "cell_type": "markdown",
   "metadata": {},
   "source": [
    "### Using the grids you defined above, implement the grid search for both tree-based ensembles. Do a 5-fold cross-validation and keep in mind that the task is classification. (20 points)"
   ]
  },
  {
   "cell_type": "code",
   "execution_count": 7,
   "metadata": {},
   "outputs": [
    {
     "data": {
      "text/plain": [
       "GridSearchCV(cv=5,\n",
       "             estimator=AdaBoostClassifier(base_estimator=DecisionTreeClassifier(random_state=12),\n",
       "                                          random_state=12),\n",
       "             param_grid={'base_estimator__max_depth': [1, 3, 5, 7, 9, 11, 13],\n",
       "                         'n_estimators': [5, 10, 15, 20, 25, 30, 35]},\n",
       "             scoring='balanced_accuracy')"
      ]
     },
     "execution_count": 7,
     "metadata": {},
     "output_type": "execute_result"
    }
   ],
   "source": [
    "# Grid search object for Random Forest\n",
    "clf_rf = GridSearchCV(rf, hp_grid_rf, cv=5, scoring='balanced_accuracy') # scoring ?\n",
    "# Grid search object for Adaptive Boosting\n",
    "clf_ab = GridSearchCV(ab, hp_grid_ab, cv=5, scoring='balanced_accuracy')\n",
    "\n",
    "# Train both objects with the training data\n",
    "clf_rf.fit(X_train, y_train)\n",
    "clf_ab.fit(X_train, y_train)\n",
    "\n",
    "\n"
   ]
  },
  {
   "cell_type": "markdown",
   "metadata": {},
   "source": [
    "### Before you pick the best hyperparameters, visualize your both grid searches with a heatmap. (5 points)"
   ]
  },
  {
   "cell_type": "code",
   "execution_count": 8,
   "metadata": {},
   "outputs": [
    {
     "data": {
      "image/png": "[encoded data removed]",
      "text/plain": [
       "<Figure size 432x288 with 2 Axes>"
      ]
     },
     "metadata": {
      "needs_background": "light"
     },
     "output_type": "display_data"
    },
    {
     "data": {
      "image/png": "[encoded data removed]",
      "text/plain": [
       "<Figure size 432x288 with 2 Axes>"
      ]
     },
     "metadata": {
      "needs_background": "light"
     },
     "output_type": "display_data"
    }
   ],
   "source": [
    "cv_results_rf = clf_rf.cv_results_\n",
    "cv_results_ab = clf_ab.cv_results_\n",
    "\n",
    "\n",
    "df_results_rf = pd.DataFrame(cv_results_rf)\n",
    "df_results_ab = pd.DataFrame(cv_results_ab)\n",
    "\n",
    " \n",
    "#visualise rf\n",
    "df_results_rf = df_results_rf[['param_max_depth', 'param_n_estimators' ,'mean_test_score']]\n",
    "\n",
    "df_results_tabular_rf = df_results_rf.pivot(index = 'param_max_depth', columns ='param_n_estimators', values = 'mean_test_score')\n",
    "\n",
    "# df_results_tabular_rf = np.sqrt(-df_results_tabular_rf)\n",
    "\n",
    "sns.heatmap(df_results_tabular_rf)\n",
    "plt.xlabel('Number of Trees random forest')\n",
    "plt.ylabel('Max Tree Depth random forest')\n",
    "plt.show()\n",
    "\n",
    "\n",
    "#visualise ab\n",
    "df_results_ab = df_results_ab[['param_base_estimator__max_depth', 'param_n_estimators' ,'mean_test_score']]\n",
    "\n",
    "df_results_tabular_ab = df_results_ab.pivot(index = 'param_base_estimator__max_depth', columns ='param_n_estimators', values = 'mean_test_score')\n",
    "\n",
    "# df_results_tabular_ab = np.sqrt(-df_results_tabular_ab)\n",
    "\n",
    "sns.heatmap(df_results_tabular_ab)\n",
    "plt.xlabel('Number of Trees adaboost')\n",
    "plt.ylabel('Max Tree Depth adaboost')\n",
    "plt.show()\n",
    "\n",
    "\n",
    "\n"
   ]
  },
  {
   "cell_type": "markdown",
   "metadata": {},
   "source": [
    "###  Extract the best hyperparameter values from the trained grid search objects and using them, train your final Random Forest and Adaptive Boosting models. For both, evaluate the test performance. Print the accuracy score and the confusion matrix. (25 points)"
   ]
  },
  {
   "cell_type": "code",
   "execution_count": 9,
   "metadata": {},
   "outputs": [
    {
     "name": "stdout",
     "output_type": "stream",
     "text": [
      "random forest confusion matrix\n",
      "[[106   2]\n",
      " [  3  60]]\n",
      "Best hyperparameter value random forest: {'max_depth': 9, 'n_estimators': 30}     Test acc: 97.07602339181285\n",
      "adaboost confusion matrix\n",
      "[[105   3]\n",
      " [  3  60]]\n",
      "Best hyperparameter value adaboost: {'base_estimator__max_depth': 1, 'n_estimators': 30}     Test acc: 96.49122807017544\n"
     ]
    }
   ],
   "source": [
    "# Extract the best hyperparameter values\n",
    "\n",
    "    #random forest best hyperparameter values\n",
    "best_hyperparam_rf = clf_rf.best_params_\n",
    "best_n_est_rf = best_hyperparam_rf['n_estimators']\n",
    "best_max_depth_rf = best_hyperparam_rf['max_depth']\n",
    "\n",
    "    #adaboost best hyperparameter values\n",
    "best_hyperparam_ab = clf_ab.best_params_\n",
    "best_n_est_ab = best_hyperparam_ab['n_estimators']\n",
    "best_max_depth_ab = best_hyperparam_ab['base_estimator__max_depth']\n",
    "\n",
    "# Create the final models\n",
    "rf_best = RandomForestClassifier(n_estimators=best_n_est_rf, max_depth=best_max_depth_rf , random_state=12)\n",
    "ab_best = AdaBoostClassifier(n_estimators=best_n_est_ab, random_state=12)\n",
    "\n",
    "# Train the final models\n",
    "rf_best.fit(X_train, y_train)\n",
    "ab_best.fit(X_train, y_train)\n",
    "\n",
    "# Evaluate them using test data and print the final results.\n",
    "y_pred_rf = rf_best.predict(X_test)\n",
    "y_pred_ab = ab_best.predict(X_test)\n",
    "\n",
    "\n",
    "#random forest accuracy and confusion matrix\n",
    "test_score_rf = accuracy_score(y_test, y_pred_rf)\n",
    "print(\"random forest confusion matrix\")\n",
    "print(confusion_matrix(y_test, y_pred_rf))\n",
    "print(\"Best hyperparameter value random forest: \"+str(best_hyperparam_rf)+\"     Test acc: \" + str(test_score_rf*100))\n",
    "\n",
    "\n",
    "#adaboost accuracy and confusion matrix\n",
    "test_score_ab = accuracy_score(y_test, y_pred_ab)\n",
    "print(\"adaboost confusion matrix\")\n",
    "print(confusion_matrix(y_test, y_pred_ab))\n",
    "print(\"Best hyperparameter value adaboost: \"+str(best_hyperparam_ab)+\"     Test acc: \" + str(test_score_ab*100))\n",
    "\n",
    "\n",
    "\n"
   ]
  },
  {
   "cell_type": "markdown",
   "metadata": {},
   "source": [
    "### Lastly, give an example for a real-life clinical situation where a K-Nearest Neighbors (KNN) model that is built in an app or a medical device would not be useful. Remember the shortcomings of KNN models that we have discussed in class. (10 points)"
   ]
  },
  {
   "cell_type": "code",
   "execution_count": 10,
   "metadata": {},
   "outputs": [
    {
     "name": "stdout",
     "output_type": "stream",
     "text": [
      "In Polysomnography, patients’ data can be collected by using sensors to record eye movements, brain waves, heart rhythm and body movements. If a KNN algorithm is to be implemented on a medical device that is used to detect a sleep disorder, then it would require calculating multiple steps for each new data instance. In this situation the amount of data is very large with lot of instances. So in that case for every new instance, the algorithm must calculate distance between the new data point and all the instances in the training data, sort the training instances in right order based on the distance calculated. Then based on the no. of neighbors specified in the algorithm, the algorithm will choose the k nearest neighbors and then classify the new instance in one of the categories. This will be very computationally heavy for a medical device and therefore, the KNN algorithm in that case will not be very useful. \n"
     ]
    }
   ],
   "source": [
    "print('In Polysomnography, patients’ data can be collected by using sensors to record eye movements, brain waves, heart rhythm and body movements. If a KNN algorithm is to be implemented on a medical device that is used to detect a sleep disorder, then it would require calculating multiple steps for each new data instance. In this situation the amount of data is very large with lot of instances. So in that case for every new instance, the algorithm must calculate distance between the new data point and all the instances in the training data, sort the training instances in right order based on the distance calculated. Then based on the no. of neighbors specified in the algorithm, the algorithm will choose the k nearest neighbors and then classify the new instance in one of the categories. This will be very computationally heavy for a medical device and therefore, the KNN algorithm in that case will not be very useful. ')"
   ]
  }
 ],
 "metadata": {
  "kernelspec": {
   "display_name": "Python 3",
   "language": "python",
   "name": "python3"
  },
  "language_info": {
   "codemirror_mode": {
    "name": "ipython",
    "version": 3
   },
   "file_extension": ".py",
   "mimetype": "text/x-python",
   "name": "python",
   "nbconvert_exporter": "python",
   "pygments_lexer": "ipython3",
   "version": "3.8.8"
  }
 },
 "nbformat": 4,
 "nbformat_minor": 4
}
