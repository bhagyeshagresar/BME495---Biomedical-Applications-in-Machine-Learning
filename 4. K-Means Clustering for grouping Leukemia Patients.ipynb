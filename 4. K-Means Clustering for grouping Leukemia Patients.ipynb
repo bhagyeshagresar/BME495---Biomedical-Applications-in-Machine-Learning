{
 "cells": [
  {
   "cell_type": "markdown",
   "metadata": {},
   "source": [
    "# Midterm Project 4 (100 points total)"
   ]
  },
  {
   "cell_type": "markdown",
   "metadata": {},
   "source": [
    "## In this project, you need to use unsupervised learning on genetic data: Reduce the dimensionality of the dataset with each feature as a genetic expression (DNA microarray) and then group the leukemia patients by K-means clustering."
   ]
  },
  {
   "cell_type": "markdown",
   "metadata": {},
   "source": [
    "### Import the necessary libraries. (5 points)"
   ]
  },
  {
   "cell_type": "code",
   "execution_count": 1,
   "metadata": {},
   "outputs": [],
   "source": [
    "#Import the necessary libraries.\n",
    "\n",
    "import pandas as pd\n",
    "import numpy as np\n",
    "import seaborn as sns\n",
    "import matplotlib.pyplot as plt\n",
    "from sklearn.cluster import KMeans\n",
    "from sklearn.decomposition import PCA\n",
    "from sklearn.preprocessing import StandardScaler, MinMaxScaler\n",
    "from sklearn.decomposition import PCA\n",
    "\n"
   ]
  },
  {
   "cell_type": "markdown",
   "metadata": {},
   "source": [
    "### Upload the data and preprocess it. (10 points)"
   ]
  },
  {
   "cell_type": "code",
   "execution_count": 2,
   "metadata": {},
   "outputs": [],
   "source": [
    "# Upload the data to a Dataframe.\n",
    "data = pd.read_csv(\"gene_expression_data.csv\")\n",
    "# Note that some columns have non-numeric information which we do not need for our models. Discard those columns.\n",
    "# Hint: You can use indexing (much faster) or a loop.\n",
    "\n",
    "data = data[data.columns.drop(list(data.filter(regex='call')))]\n",
    "\n",
    "\n",
    "# Transpose the dataset so that each patient is in a row.\n",
    "data = data.T\n",
    "X = data\n",
    "\n",
    "# Get rid of the headers which are not needed for numeric analysis.\n",
    "X = X.drop(['Gene Description','Gene Accession Number'],axis=0)\n",
    "X.index = pd.to_numeric(X.index)\n",
    "\n",
    "# Lastly, scale the dataset. You can use any type of scaling (implemented or from a library) we have covered in class.\n",
    "scaler = MinMaxScaler()\n",
    "scaler.fit(X)\n",
    "X = scaler.transform(X)\n"
   ]
  },
  {
   "cell_type": "markdown",
   "metadata": {},
   "source": [
    "### Apply Principle Component Analysis (PCA) to the preprocessed dataset to reduce its dimensionality. (10 points)"
   ]
  },
  {
   "cell_type": "code",
   "execution_count": 3,
   "metadata": {},
   "outputs": [],
   "source": [
    "# Create a PCA object that would preserve 98% of the variance in the dataset.\n",
    "# pca1 = PCA(n_components=X.shape[1], svd_solver='full')\n",
    "pca1 = PCA(0.98)\n",
    "\n",
    "\n",
    "\n",
    "# Transform the data.\n",
    "X_pca1 = pca1.fit_transform(X)\n",
    "\n"
   ]
  },
  {
   "cell_type": "markdown",
   "metadata": {},
   "source": [
    "### Question 1: You cannot apply PCA for more than 38 dimensions, even though the dimensionality of the original data is way higher than that. (You can try and see for yourself.) What is the reason for this? (10 points)"
   ]
  },
  {
   "cell_type": "code",
   "execution_count": 4,
   "metadata": {},
   "outputs": [
    {
     "name": "stdout",
     "output_type": "stream",
     "text": [
      "PCA can only be applied to a dataset which is less than the minimum number of the size of the dataset because the variance  in PCA means the amount of information retained from the original data. If we try to apply PCA for more than 38 dimensions then we are trying to retain information from the data which does not exist\n"
     ]
    }
   ],
   "source": [
    "print(\"PCA can only be applied to a dataset which is less than the minimum number of the size of the dataset because the variance  in PCA means the amount of information retained from the original data. If we try to apply PCA for more than 38 dimensions then we are trying to retain information from the data which does not exist\")"
   ]
  },
  {
   "cell_type": "markdown",
   "metadata": {},
   "source": [
    "### Create a new PCA object that reduces the dimensionality of the dataset to 2. Then, apply K-means clustering to the two-dimensional data and find the number of clusters that you think is best. (Using a heuristic method we have covered in class.)  (25 points)"
   ]
  },
  {
   "cell_type": "code",
   "execution_count": 5,
   "metadata": {},
   "outputs": [
    {
     "name": "stdout",
     "output_type": "stream",
     "text": [
      "[0.15655655 0.11570855]\n",
      "[55.53334636 41.04384602]\n"
     ]
    },
    {
     "name": "stderr",
     "output_type": "stream",
     "text": [
      "C:\\Users\\bhagy\\anaconda3\\lib\\site-packages\\sklearn\\cluster\\_kmeans.py:881: UserWarning: KMeans is known to have a memory leak on Windows with MKL, when there are less chunks than available threads. You can avoid it by setting the environment variable OMP_NUM_THREADS=1.\n",
      "  warnings.warn(\n"
     ]
    },
    {
     "data": {
      "image/png": "[encoded data removed]",
      "text/plain": [
       "<Figure size 432x288 with 1 Axes>"
      ]
     },
     "metadata": {
      "needs_background": "light"
     },
     "output_type": "display_data"
    },
    {
     "name": "stdout",
     "output_type": "stream",
     "text": [
      "[2 1 4 2 1 2 2 4 1 0 1 0 1 1 1 1 3 0 0 5 0 0 2 1 0 0 4 2 2 2 2 2 2 0 2 2 2\n",
      " 4]\n"
     ]
    },
    {
     "data": {
      "image/png": "[encoded data removed]",
      "text/plain": [
       "<Figure size 432x288 with 1 Axes>"
      ]
     },
     "metadata": {
      "needs_background": "light"
     },
     "output_type": "display_data"
    }
   ],
   "source": [
    "# Create a new PCA object that creates a two-dimensional dataset.\n",
    "pca2 = PCA(n_components = 2)\n",
    "\n",
    "\n",
    "# Reduce the dimensionality of the dataset and print the variance captured by this new 2-dim dataset.\n",
    "X_pca2 = pca2.fit_transform(X)\n",
    "print(pca2.explained_variance_ratio_)\n",
    "print(pca2.explained_variance_)\n",
    "\n",
    "# Apply K-Means clustering from 1 to 20 clusters. Plot the inertia graph for all K values.\n",
    "\n",
    "scores = []\n",
    "for ii in range(1,21):\n",
    "    kmeans = KMeans(n_clusters=ii)\n",
    "    kmeans.fit(X_pca2)\n",
    "    scores.append(kmeans.inertia_)\n",
    "    \n",
    "plt.plot(scores, '-rx')\n",
    "plt.show()\n",
    "\n",
    "\n",
    "\n",
    "# Pick the K value that you think is best; create a K-means object with that value and extract the cluster labels.\n",
    "kmeans_best = KMeans(n_clusters=6, random_state=42)\n",
    "kmeans_best.fit(X_pca2)\n",
    "# labels = kmeans_best.fit_predict(X_pca2)\n",
    "labels = kmeans_best.labels_\n",
    "print(labels)\n",
    "\n",
    "\n",
    "# Plot the two-dimensional dataset, color coding different clusters.\n",
    "label0 = X_pca2[labels == 0]\n",
    "label1 = X_pca2[labels == 1]\n",
    "label2 = X_pca2[labels == 2]\n",
    "label3 = X_pca2[labels == 3]\n",
    "label4 = X_pca2[labels == 4]\n",
    "label5 = X_pca2[labels == 5]\n",
    "\n",
    "plt.scatter(label0[:, 0], label0[:, 1], color = 'red')\n",
    "plt.scatter(label1[:, 0], label1[:, 1], color = 'blue')\n",
    "plt.scatter(label2[:, 0], label2[:, 1], color = 'green')\n",
    "plt.scatter(label3[:, 0], label3[:, 1], color = 'black')\n",
    "plt.scatter(label4[:, 0], label4[:, 1], color = 'purple')\n",
    "plt.scatter(label5[:, 0], label5[:, 1], color = 'brown')\n",
    "plt.show()\n",
    "\n",
    "\n",
    "\n",
    "\n"
   ]
  },
  {
   "cell_type": "markdown",
   "metadata": {},
   "source": [
    "### Question 2: What do you see in the clustered data plot? Interpret the output, keeping in mind the amount of variance captured by the low-dimensional dataset and the shortcomings of K-means clustering. (15 points)"
   ]
  },
  {
   "cell_type": "code",
   "execution_count": 9,
   "metadata": {},
   "outputs": [
    {
     "name": "stdout",
     "output_type": "stream",
     "text": [
      "The data plot highlights the 6 clusters. This pca object with 2 dimensions gives 0.156 and 0.1157 ratio. This indicates the amount of information retained from the original data and this means that with just 2 dimensions we can visualise the clusters but we lose a lot of information. Sometimes there are outliers like there is a datapoint in black color and one in brown color which are far away from others and probably should not be considered as separate clusters\n"
     ]
    }
   ],
   "source": [
    "print(\"The data plot highlights the 6 clusters. This pca object with 2 dimensions gives 0.156 and 0.1157 ratio. This indicates the amount of information retained from the original data and this means that with just 2 dimensions we can visualise the clusters but we lose a lot of information. Sometimes there are outliers like there is a datapoint in black color and one in brown color which are far away from others and probably should not be considered as separate clusters\")"
   ]
  },
  {
   "cell_type": "markdown",
   "metadata": {},
   "source": [
    "### Lastly, use the dataset that captures 98% of the variance of the original data and apply K-means clustering to it. Using the same heuristic method, find the best number of clusters. (10 points)"
   ]
  },
  {
   "cell_type": "code",
   "execution_count": 7,
   "metadata": {},
   "outputs": [
    {
     "name": "stderr",
     "output_type": "stream",
     "text": [
      "C:\\Users\\bhagy\\anaconda3\\lib\\site-packages\\sklearn\\cluster\\_kmeans.py:881: UserWarning: KMeans is known to have a memory leak on Windows with MKL, when there are less chunks than available threads. You can avoid it by setting the environment variable OMP_NUM_THREADS=1.\n",
      "  warnings.warn(\n"
     ]
    },
    {
     "data": {
      "image/png": "[encoded data removed]",
      "text/plain": [
       "<Figure size 432x288 with 1 Axes>"
      ]
     },
     "metadata": {
      "needs_background": "light"
     },
     "output_type": "display_data"
    },
    {
     "name": "stdout",
     "output_type": "stream",
     "text": [
      "Based on the elbow rule the optimum number of clusters can be taken as 10.\n"
     ]
    }
   ],
   "source": [
    "# Apply K-Means clustering from 1 to 20 clusters. Plot the inertia graph for all values.\n",
    "scores2 = []\n",
    "for ii in range(1,21):\n",
    "    kmeans = KMeans(n_clusters=ii)\n",
    "    kmeans.fit(X_pca1)\n",
    "    scores2.append(kmeans.inertia_)\n",
    "    \n",
    "plt.plot(scores2, '-rx')\n",
    "plt.show()\n",
    "\n",
    "# Print the optimum number of clusters.\n",
    "# kmeans_best2 = KMeans(n_clusters=10, random_state=42)\n",
    "# kmeans_best2.fit(X_pca1)\n",
    "# labels = kmeans_best2.fit_predict(X_pca1)\n",
    "print(\"Based on the elbow rule the optimum number of clusters can be taken as 10.\")\n",
    "\n",
    "\n",
    "\n"
   ]
  },
  {
   "cell_type": "markdown",
   "metadata": {},
   "source": [
    "### Question 3: What is the best number of clusters? Can we visualize these clusters? What does all this tell about using K-means clustering method for high-dim data? What would you propose to improve the clustering results? (15 points)"
   ]
  },
  {
   "cell_type": "code",
   "execution_count": 10,
   "metadata": {},
   "outputs": [
    {
     "name": "stdout",
     "output_type": "stream",
     "text": [
      "According to Elbow rule, the WCSS value tends to decrease as the number of clusters increases and judging from the plot it seems like choosing 10 clusters is ideal for this scenario. We cannot visualise the clusters because the number of dimensions of the dataset to which Kmeans is applied is too high. DB scan can help in this scenario because we do not need to choose the number of clusters ourselves. The algorithm will decide the number of clusters based on the tolerance and converge to the optimum number of clusters. In order to improve the clustering results we can use Silhouette Method. If the average distance of a point with other points in the same cluster is greater than the average distance between the point with other points in the other clusters then that point can't be considered as part of that cluster. The silhouette value coefficient can calculated and plotted similar to inertia graph in order to determine the correct number of clusters \n"
     ]
    }
   ],
   "source": [
    "print(\"According to Elbow rule, the WCSS value tends to decrease as the number of clusters increases and judging from the plot it seems like choosing 10 clusters is ideal for this scenario. We cannot visualise the clusters because the number of dimensions of the dataset to which Kmeans is applied is too high. DB scan can help in this scenario because we do not need to choose the number of clusters ourselves. The algorithm will decide the number of clusters based on the tolerance and converge to the optimum number of clusters. In order to improve the clustering results we can use Silhouette Method. If the average distance of a point with other points in the same cluster is greater than the average distance between the point with other points in the other clusters then that point can't be considered as part of that cluster. The silhouette value coefficient can calculated and plotted similar to inertia graph in order to determine the correct number of clusters \")"
   ]
  }
 ],
 "metadata": {
  "kernelspec": {
   "display_name": "Python 3",
   "language": "python",
   "name": "python3"
  },
  "language_info": {
   "codemirror_mode": {
    "name": "ipython",
    "version": 3
   },
   "file_extension": ".py",
   "mimetype": "text/x-python",
   "name": "python",
   "nbconvert_exporter": "python",
   "pygments_lexer": "ipython3",
   "version": "3.8.8"
  }
 },
 "nbformat": 4,
 "nbformat_minor": 4
}
